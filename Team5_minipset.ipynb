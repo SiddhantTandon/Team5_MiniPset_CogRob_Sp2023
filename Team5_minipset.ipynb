{
 "cells": [
  {
   "attachments": {},
   "cell_type": "markdown",
   "metadata": {},
   "source": [
    "## Team 5 - Learning Models by Exploiting Structure and Fundamental Knowledge"
   ]
  },
  {
   "attachments": {},
   "cell_type": "markdown",
   "metadata": {},
   "source": [
    "Introductory text for the mini-pset outlining the key deliverables and points breakdown per problem\n",
    "\n",
    "ENTER HERE"
   ]
  },
  {
   "attachments": {},
   "cell_type": "markdown",
   "metadata": {},
   "source": [
    "### Problem 1 - Loss Functions\n",
    "\n",
    "In lecture, we stepped through multiple components of a loss function that is used to learn\n",
    "physics-based state representations. However, we do not use the loss function directly during learning,\n",
    "but rather the gradient of the loss function to perform gradient descent. In this problem, you will implement\n",
    "the gradient of each component of the loss function, and at the end we will combine them to perform state\n",
    "representation learning on a simulated data set.\n",
    "\n",
    "#### Part A. Temporal Cohesion\n",
    "\n",
    "In lecture, we defined the temporal cohesion loss as $E[||\\triangle s_t||^2]$.\n",
    "Use the function skeleton below to implement the gradient of the temporal cohesion loss."
   ]
  },
  {
   "cell_type": "markdown",
   "source": [
    "\n",
    "#### Part B. Proportionality Prior"
   ],
   "metadata": {
    "collapsed": false
   }
  },
  {
   "cell_type": "markdown",
   "source": [
    "#### Part C. Repeatibility Prior"
   ],
   "metadata": {
    "collapsed": false
   }
  },
  {
   "attachments": {},
   "cell_type": "markdown",
   "metadata": {},
   "source": [
    "#### Part D. Causality Prior"
   ]
  },
  {
   "attachments": {},
   "cell_type": "markdown",
   "metadata": {},
   "source": [
    "### Problem 2. Analysis of Symbolic Regression Studies"
   ]
  }
 ],
 "metadata": {
  "language_info": {
   "name": "python"
  },
  "orig_nbformat": 4
 },
 "nbformat": 4,
 "nbformat_minor": 2
}